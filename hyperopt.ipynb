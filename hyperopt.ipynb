{
 "cells": [
  {
   "cell_type": "markdown",
   "metadata": {},
   "source": [
    "## Introduction"
   ]
  },
  {
   "cell_type": "markdown",
   "metadata": {},
   "source": [
    "Hyperopt提供了一个优化接口，这个接口接受一个评估函数和参数空间，能计算出参数空间内的一个点的损失函数值。用户还要指定空间内参数的分布情况。 "
   ]
  },
  {
   "cell_type": "markdown",
   "metadata": {},
   "source": [
    "Hyheropt四个重要的因素：指定需要最小化的函数，搜索的空间，采样的数据集(trails database)（可选），搜索的算法（可选）。"
   ]
  },
  {
   "cell_type": "markdown",
   "metadata": {},
   "source": [
    "首先，定义一个目标函数,接受一个变量,计算后返回一个函数的损失值，比如要最小化函数q(x,y) = x^2 + y^2"
   ]
  },
  {
   "cell_type": "markdown",
   "metadata": {},
   "source": [
    "指定搜索的算法，算法也就是hyperopt的fmin函数的algo参数的取值。当前支持的算法由随机搜索(对应是hyperopt.rand.suggest)，模拟退火(对应是hyperopt.anneal.suggest)，TPE算法。"
   ]
  },
  {
   "cell_type": "markdown",
   "metadata": {},
   "source": [
    "关于参数空间的设置，比如优化函数q，输入\n",
    "* fmin(q,space=hp.uniform(‘a’,0,1))\n",
    "\n",
    "hp.uniform函数的第一个参数是标签，每个超参数在参数空间内必须具有独一无二的标签。hp.uniform指定了参数的分布。其他的参数分布比如hp.choice返回一个选项，选项可以是list或者tuple.options可以是嵌套的表达式，用于组成条件参数。 "
   ]
  },
  {
   "cell_type": "markdown",
   "metadata": {},
   "source": [
    "* hp.pchoice(label,p_options)以一定的概率返回一个p_options的一个选项。这个选项使得函数在搜索过程中对每个选项的可能性不均匀。 \n",
    "* hp.uniform(label,low,high)参数在low和high之间均匀分布。 \n",
    "* hp.quniform(label,low,high,q),参数的取值是round(uniform(low,high)/q)*q，适用于那些离散的取值。 \n",
    "* hp.loguniform(label,low,high)绘制exp(uniform(low,high)),变量的取值范围是[exp(low),exp(high)] \n",
    "* hp.randint(label,upper) 返回一个在[0,upper)前闭后开的区间内的随机整数。"
   ]
  },
  {
   "cell_type": "markdown",
   "metadata": {},
   "source": [
    "搜索空间可以含有list和dictionary."
   ]
  },
  {
   "cell_type": "code",
   "execution_count": 1,
   "metadata": {},
   "outputs": [],
   "source": [
    "from hyperopt import hp"
   ]
  },
  {
   "cell_type": "code",
   "execution_count": 2,
   "metadata": {},
   "outputs": [],
   "source": [
    "list_space = [\n",
    "    hp.uniform('a',0,1),\n",
    "    hp.loguniform('b',0,1)\n",
    "]\n",
    "\n",
    "tuple_space = (hp.uniform('a',0,1),hp.loguniform('b',0,1))\n",
    "\n",
    "dict_space = {'a':hp.uniform('a',0,1),'b':hp.loguniform('b',0,1)}"
   ]
  },
  {
   "cell_type": "markdown",
   "metadata": {},
   "source": [
    "### 简单例子"
   ]
  },
  {
   "cell_type": "code",
   "execution_count": 3,
   "metadata": {},
   "outputs": [],
   "source": [
    "from hyperopt import hp,fmin,rand,tpe,space_eval"
   ]
  },
  {
   "cell_type": "code",
   "execution_count": 4,
   "metadata": {},
   "outputs": [],
   "source": [
    "def q(args):\n",
    "    x,y=args\n",
    "    return x**2-2*x+1*y**2"
   ]
  },
  {
   "cell_type": "code",
   "execution_count": 5,
   "metadata": {},
   "outputs": [],
   "source": [
    "space = [hp.randint('x',5),hp.randint('y',5)]"
   ]
  },
  {
   "cell_type": "code",
   "execution_count": 6,
   "metadata": {},
   "outputs": [],
   "source": [
    "best = fmin(q,space,algo=rand.suggest,max_evals=10)"
   ]
  },
  {
   "cell_type": "code",
   "execution_count": 7,
   "metadata": {},
   "outputs": [
    {
     "name": "stdout",
     "output_type": "stream",
     "text": [
      "{'x': 1, 'y': 0}\n"
     ]
    }
   ],
   "source": [
    "print(best)"
   ]
  },
  {
   "cell_type": "markdown",
   "metadata": {},
   "source": [
    "#### mnist数据集"
   ]
  },
  {
   "cell_type": "code",
   "execution_count": 11,
   "metadata": {},
   "outputs": [],
   "source": [
    "import numpy as np\n",
    "import pandas as pd\n",
    "from keras.datasets import mnist\n",
    "import xgboost as xgb\n",
    "from random import shuffle\n",
    "from xgboost.sklearn import XGBClassifier\n",
    "from sklearn.cross_validation import cross_val_score\n",
    "import pickle\n",
    "import time\n",
    "from hyperopt import fmin,tpe,space_eval,rand,Trials,partial,STATUS_OK"
   ]
  },
  {
   "cell_type": "code",
   "execution_count": 9,
   "metadata": {},
   "outputs": [],
   "source": [
    "(x_train,y_train),(x_test,y_test) = mnist.load_data()"
   ]
  },
  {
   "cell_type": "code",
   "execution_count": 12,
   "metadata": {},
   "outputs": [],
   "source": [
    "x_train = x_train.reshape(-1,784).astype('float')/255\n",
    "x_test = x_test.reshape(-1,784).astype('float')/255"
   ]
  },
  {
   "cell_type": "code",
   "execution_count": 13,
   "metadata": {},
   "outputs": [],
   "source": [
    "y_train = y_train==5\n",
    "y_test = y_test==5"
   ]
  },
  {
   "cell_type": "code",
   "execution_count": 24,
   "metadata": {},
   "outputs": [],
   "source": [
    "def GBM(argsDict):\n",
    "    max_depth = argsDict['max_depth'] + 5\n",
    "    n_estimators = argsDict['n_estimators'] * 5 + 50\n",
    "    learning_rate = argsDict['learning_rate'] * 0.02 + 0.05\n",
    "    subsample = argsDict['subsample'] * 0.1 + 0.7\n",
    "    min_child_weight = argsDict['min_child_weight'] + 1\n",
    "    print(\"max_depth: {}\".format(max_depth))\n",
    "    print(\"n_estimator: {}\".format(n_estimators))\n",
    "    print(\"learning_rate: {}\".format(learning_rate))\n",
    "    print(\"subsample: {}\".format(subsample))\n",
    "    print(\"min_child_weight: {}\".format(min_child_weight))\n",
    "    global x_train,y_train\n",
    "    \n",
    "    gbm = xgb.XGBClassifier(nthread=2,\n",
    "                            max_depth=max_depth,\n",
    "                            n_estimators=n_estimators,\n",
    "                            learning_rate=learning_rate,\n",
    "                            subsample=subsample,\n",
    "                            min_child_weight=min_child_weight,\n",
    "                            max_delta_step=10,\n",
    "                            objective='binary:logistic')\n",
    "    metric = cross_val_score(estimator=gbm,X=x_train[:1000],y=y_train[:1000],cv=5,scoring='roc_auc').mean()\n",
    "    print(metric)\n",
    "    return -metric"
   ]
  },
  {
   "cell_type": "code",
   "execution_count": 25,
   "metadata": {},
   "outputs": [],
   "source": [
    "space = {\"max_depth\": hp.randint('max_depth',15),\n",
    "         'n_estimators': hp.randint('n_estimators',15),\n",
    "         'learning_rate':hp.randint('learning_rate',6),\n",
    "         'subsample':hp.randint('subsample',4),\n",
    "         'min_child_weight':hp.randint('min_child_weight',5)}"
   ]
  },
  {
   "cell_type": "code",
   "execution_count": 26,
   "metadata": {},
   "outputs": [],
   "source": [
    "algo = partial(tpe.suggest,n_startup_jobs=1)"
   ]
  },
  {
   "cell_type": "code",
   "execution_count": 27,
   "metadata": {},
   "outputs": [
    {
     "name": "stdout",
     "output_type": "stream",
     "text": [
      "max_depth: 10\n",
      "n_estimator: 70\n",
      "learning_rate: 0.13\n",
      "subsample: 0.7\n",
      "min_child_weight: 2\n",
      "0.9667390781813578\n",
      "max_depth: 10\n",
      "n_estimator: 70\n",
      "learning_rate: 0.13\n",
      "subsample: 0.7\n",
      "min_child_weight: 2\n",
      "0.9667390781813578\n",
      "max_depth: 6\n",
      "n_estimator: 110\n",
      "learning_rate: 0.11\n",
      "subsample: 1.0\n",
      "min_child_weight: 4\n",
      "0.9689879004069175\n",
      "max_depth: 6\n",
      "n_estimator: 65\n",
      "learning_rate: 0.11\n",
      "subsample: 1.0\n",
      "min_child_weight: 4\n",
      "0.969673333354636\n",
      "max_depth: 15\n",
      "n_estimator: 65\n",
      "learning_rate: 0.11\n",
      "subsample: 0.7999999999999999\n",
      "min_child_weight: 1\n",
      "0.9753883043065944\n",
      "max_depth: 15\n",
      "n_estimator: 120\n",
      "learning_rate: 0.07\n",
      "subsample: 0.7999999999999999\n",
      "min_child_weight: 1\n",
      "0.9774039504484403\n",
      "max_depth: 8\n",
      "n_estimator: 120\n",
      "learning_rate: 0.07\n",
      "subsample: 0.8999999999999999\n",
      "min_child_weight: 1\n",
      "0.9786530180103895\n",
      "max_depth: 8\n",
      "n_estimator: 60\n",
      "learning_rate: 0.05\n",
      "subsample: 0.8999999999999999\n",
      "min_child_weight: 5\n",
      "0.9567555380873205\n",
      "max_depth: 8\n",
      "n_estimator: 120\n",
      "learning_rate: 0.09\n",
      "subsample: 0.8999999999999999\n",
      "min_child_weight: 3\n",
      "0.9701541003663714\n",
      "max_depth: 19\n",
      "n_estimator: 50\n",
      "learning_rate: 0.07\n",
      "subsample: 0.8999999999999999\n",
      "min_child_weight: 1\n",
      "0.972435622275692\n",
      "max_depth: 17\n",
      "n_estimator: 115\n",
      "learning_rate: 0.15000000000000002\n",
      "subsample: 0.8999999999999999\n",
      "min_child_weight: 5\n",
      "0.9623677943974542\n",
      "max_depth: 9\n",
      "n_estimator: 95\n",
      "learning_rate: 0.07\n",
      "subsample: 0.8999999999999999\n",
      "min_child_weight: 1\n",
      "0.9768389666615895\n",
      "max_depth: 7\n",
      "n_estimator: 80\n",
      "learning_rate: 0.05\n",
      "subsample: 0.8999999999999999\n",
      "min_child_weight: 3\n",
      "0.9676729009093069\n",
      "max_depth: 11\n",
      "n_estimator: 90\n",
      "learning_rate: 0.07\n",
      "subsample: 1.0\n",
      "min_child_weight: 1\n",
      "0.9739412279104049\n",
      "max_depth: 5\n",
      "n_estimator: 75\n",
      "learning_rate: 0.15000000000000002\n",
      "subsample: 0.7\n",
      "min_child_weight: 3\n",
      "0.9682990945276494\n",
      "max_depth: 14\n",
      "n_estimator: 85\n",
      "learning_rate: 0.09\n",
      "subsample: 0.7999999999999999\n",
      "min_child_weight: 5\n",
      "0.9639223075396381\n",
      "max_depth: 13\n",
      "n_estimator: 105\n",
      "learning_rate: 0.07\n",
      "subsample: 0.8999999999999999\n",
      "min_child_weight: 4\n",
      "0.9702393467732229\n",
      "max_depth: 12\n",
      "n_estimator: 120\n",
      "learning_rate: 0.07\n",
      "subsample: 0.7999999999999999\n",
      "min_child_weight: 1\n",
      "0.9774617873483823\n",
      "max_depth: 12\n",
      "n_estimator: 120\n",
      "learning_rate: 0.07\n",
      "subsample: 0.7999999999999999\n",
      "min_child_weight: 1\n",
      "0.9774617873483823\n",
      "max_depth: 18\n",
      "n_estimator: 55\n",
      "learning_rate: 0.07\n",
      "subsample: 0.7999999999999999\n",
      "min_child_weight: 1\n",
      "0.9716423265274676\n",
      "max_depth: 12\n",
      "n_estimator: 100\n",
      "learning_rate: 0.07\n",
      "subsample: 0.7999999999999999\n",
      "min_child_weight: 1\n",
      "0.976937367501485\n",
      "max_depth: 16\n",
      "n_estimator: 120\n",
      "learning_rate: 0.07\n",
      "subsample: 0.7999999999999999\n",
      "min_child_weight: 1\n",
      "0.9774039504484403\n",
      "max_depth: 8\n",
      "n_estimator: 120\n",
      "learning_rate: 0.13\n",
      "subsample: 0.7999999999999999\n",
      "min_child_weight: 2\n",
      "0.9740813820924318\n",
      "max_depth: 12\n",
      "n_estimator: 105\n",
      "learning_rate: 0.15000000000000002\n",
      "subsample: 0.7\n",
      "min_child_weight: 1\n",
      "0.9745968370423155\n",
      "max_depth: 8\n",
      "n_estimator: 120\n",
      "learning_rate: 0.05\n",
      "subsample: 1.0\n",
      "min_child_weight: 1\n",
      "0.9739280379728184\n",
      "max_depth: 17\n",
      "n_estimator: 85\n",
      "learning_rate: 0.09\n",
      "subsample: 0.8999999999999999\n",
      "min_child_weight: 3\n",
      "0.9700266035537917\n",
      "max_depth: 12\n",
      "n_estimator: 60\n",
      "learning_rate: 0.07\n",
      "subsample: 0.8999999999999999\n",
      "min_child_weight: 1\n",
      "0.9742703195160305\n",
      "max_depth: 5\n",
      "n_estimator: 95\n",
      "learning_rate: 0.07\n",
      "subsample: 0.7999999999999999\n",
      "min_child_weight: 5\n",
      "0.957079037727482\n",
      "max_depth: 7\n",
      "n_estimator: 110\n",
      "learning_rate: 0.13\n",
      "subsample: 0.7\n",
      "min_child_weight: 2\n",
      "0.9702868340989887\n",
      "max_depth: 19\n",
      "n_estimator: 90\n",
      "learning_rate: 0.11\n",
      "subsample: 1.0\n",
      "min_child_weight: 4\n",
      "0.9690966330687181\n",
      "max_depth: 9\n",
      "n_estimator: 55\n",
      "learning_rate: 0.15000000000000002\n",
      "subsample: 0.7\n",
      "min_child_weight: 2\n",
      "0.969476638188473\n",
      "max_depth: 10\n",
      "n_estimator: 70\n",
      "learning_rate: 0.05\n",
      "subsample: 0.8999999999999999\n",
      "min_child_weight: 1\n",
      "0.9733292183568427\n",
      "max_depth: 11\n",
      "n_estimator: 80\n",
      "learning_rate: 0.13\n",
      "subsample: 0.7999999999999999\n",
      "min_child_weight: 4\n",
      "0.9689839771549572\n",
      "max_depth: 16\n",
      "n_estimator: 75\n",
      "learning_rate: 0.11\n",
      "subsample: 1.0\n",
      "min_child_weight: 2\n",
      "0.9728611264668258\n",
      "max_depth: 18\n",
      "n_estimator: 70\n",
      "learning_rate: 0.07\n",
      "subsample: 0.7\n",
      "min_child_weight: 1\n",
      "0.9717308926090549\n",
      "max_depth: 14\n",
      "n_estimator: 100\n",
      "learning_rate: 0.09\n",
      "subsample: 0.7999999999999999\n",
      "min_child_weight: 4\n",
      "0.9665286782617402\n",
      "max_depth: 8\n",
      "n_estimator: 65\n",
      "learning_rate: 0.13\n",
      "subsample: 0.8999999999999999\n",
      "min_child_weight: 1\n",
      "0.9755885499270205\n",
      "max_depth: 13\n",
      "n_estimator: 115\n",
      "learning_rate: 0.11\n",
      "subsample: 0.7999999999999999\n",
      "min_child_weight: 5\n",
      "0.9625132565086041\n",
      "max_depth: 6\n",
      "n_estimator: 50\n",
      "learning_rate: 0.07\n",
      "subsample: 0.8999999999999999\n",
      "min_child_weight: 3\n",
      "0.967101118002543\n",
      "max_depth: 15\n",
      "n_estimator: 120\n",
      "learning_rate: 0.07\n",
      "subsample: 1.0\n",
      "min_child_weight: 1\n",
      "0.975004944007561\n"
     ]
    }
   ],
   "source": [
    "best = fmin(fn=GBM,space=space,algo=algo,max_evals=40)"
   ]
  },
  {
   "cell_type": "code",
   "execution_count": 23,
   "metadata": {},
   "outputs": [
    {
     "name": "stdout",
     "output_type": "stream",
     "text": [
      "{'learning_rate': 4, 'max_depth': 4, 'min_child_weight': 0, 'n_estimators': 4, 'subsample': 2}\n"
     ]
    }
   ],
   "source": [
    "print(best)"
   ]
  },
  {
   "cell_type": "code",
   "execution_count": 28,
   "metadata": {},
   "outputs": [
    {
     "name": "stdout",
     "output_type": "stream",
     "text": [
      "{'learning_rate': 1, 'max_depth': 3, 'min_child_weight': 0, 'n_estimators': 14, 'subsample': 2}\n"
     ]
    }
   ],
   "source": [
    "print(best)"
   ]
  },
  {
   "cell_type": "code",
   "execution_count": null,
   "metadata": {},
   "outputs": [],
   "source": []
  }
 ],
 "metadata": {
  "kernelspec": {
   "display_name": "Python 3",
   "language": "python",
   "name": "python3"
  },
  "language_info": {
   "codemirror_mode": {
    "name": "ipython",
    "version": 3
   },
   "file_extension": ".py",
   "mimetype": "text/x-python",
   "name": "python",
   "nbconvert_exporter": "python",
   "pygments_lexer": "ipython3",
   "version": "3.6.6"
  }
 },
 "nbformat": 4,
 "nbformat_minor": 2
}
