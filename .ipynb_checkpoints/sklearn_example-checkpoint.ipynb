{
 "cells": [
  {
   "cell_type": "code",
   "execution_count": 1,
   "metadata": {},
   "outputs": [
    {
     "name": "stderr",
     "output_type": "stream",
     "text": [
      "D:\\Program Files (x86)\\anaconda\\lib\\site-packages\\sklearn\\cross_validation.py:41: DeprecationWarning: This module was deprecated in version 0.18 in favor of the model_selection module into which all the refactored classes and functions are moved. Also note that the interface of the new CV iterators are different from that of this module. This module will be removed in 0.20.\n",
      "  \"This module will be removed in 0.20.\", DeprecationWarning)\n"
     ]
    }
   ],
   "source": [
    "from __future__ import print_function,division\n",
    "\n",
    "from sklearn.datasets import make_classification\n",
    "from sklearn.cross_validation import cross_val_score\n",
    "from sklearn.ensemble import RandomForestClassifier as RFC\n",
    "from sklearn.svm import SVC\n",
    "\n",
    "from bayes_opt import BayesianOptimization\n",
    "import warnings\n",
    "warnings.filterwarnings('ignore')"
   ]
  },
  {
   "cell_type": "code",
   "execution_count": 2,
   "metadata": {},
   "outputs": [],
   "source": [
    "data, target = make_classification(n_samples=1000,n_features=45,n_informative=12,n_redundant=7,random_state=2018)"
   ]
  },
  {
   "cell_type": "markdown",
   "metadata": {},
   "source": [
    "定义优化的问题，输入为需要优化的超参数，输出为需要优化的目标值"
   ]
  },
  {
   "cell_type": "code",
   "execution_count": 3,
   "metadata": {},
   "outputs": [],
   "source": [
    "def svccv(C, gamma):\n",
    "    val = cross_val_score(estimator=SVC(C=C,gamma=gamma,probability=True,random_state=2018),X=data,y=target,scoring='f1',cv=2).mean()\n",
    "    return val"
   ]
  },
  {
   "cell_type": "code",
   "execution_count": 4,
   "metadata": {},
   "outputs": [],
   "source": [
    "def rfccv(n_estimators, min_samples_split, max_features):\n",
    "    val = cross_val_score(\n",
    "        RFC(n_estimators=int(n_estimators),\n",
    "            min_samples_split=int(min_samples_split),\n",
    "            max_features=min(max_features, 0.999),\n",
    "            random_state=2\n",
    "        ),\n",
    "        data, target, 'f1', cv=2\n",
    "    ).mean()\n",
    "    return val"
   ]
  },
  {
   "cell_type": "code",
   "execution_count": 5,
   "metadata": {},
   "outputs": [
    {
     "name": "stdout",
     "output_type": "stream",
     "text": [
      "\u001b[31mInitialization\u001b[0m\n",
      "\u001b[94m-----------------------------------------------------\u001b[0m\n",
      " Step |   Time |      Value |         C |     gamma | \n",
      "    1 | 00m00s | \u001b[35m   0.00000\u001b[0m | \u001b[32m   0.0010\u001b[0m | \u001b[32m   0.0010\u001b[0m | \n",
      "    2 | 00m00s |    0.00000 |    0.0100 |    0.0100 | \n",
      "    3 | 00m00s |    0.00000 |    0.1000 |    0.1000 | \n",
      "    4 | 00m00s | \u001b[35m   0.83142\u001b[0m | \u001b[32m  42.4416\u001b[0m | \u001b[32m   0.0001\u001b[0m | \n",
      "    5 | 00m00s |    0.31949 |   16.4672 |    0.0915 | \n",
      "    6 | 00m00s | \u001b[35m   0.90750\u001b[0m | \u001b[32m   8.9722\u001b[0m | \u001b[32m   0.0286\u001b[0m | \n",
      "    7 | 00m00s |    0.79036 |   57.8213 |    0.0561 | \n",
      "    8 | 00m00s |    0.71481 |   90.6774 |    0.0635 | \n",
      "\u001b[31mBayesian Optimization\u001b[0m\n",
      "\u001b[94m-----------------------------------------------------\u001b[0m\n",
      " Step |   Time |      Value |         C |     gamma | \n",
      "    9 | 00m01s |    0.83209 |   74.6085 |    0.0001 | \n",
      "   10 | 00m01s |    0.83689 |  100.0000 |    0.0001 | \n",
      "   11 | 00m01s |    0.82609 |   32.3433 |    0.0001 | \n",
      "   12 | 00m03s |    0.21233 |   66.3496 |    0.1000 | \n",
      "   13 | 00m02s |    0.21233 |   82.0440 |    0.1000 | \n",
      "   14 | 00m01s |    0.21233 |   50.3687 |    0.1000 | \n",
      "   15 | 00m01s |    0.21233 |   37.3563 |    0.1000 | \n",
      "   16 | 00m01s |    0.82433 |   25.6705 |    0.0001 | \n",
      "   17 | 00m01s |    0.21233 |   95.5157 |    0.1000 | \n",
      "   18 | 00m03s |    0.21233 |   28.9903 |    0.1000 | \n",
      "-----------------------------------------------------\n",
      "\u001b[31mInitialization\u001b[0m\n",
      "\u001b[94m-------------------------------------------------------------------------------------\u001b[0m\n",
      " Step |   Time |      Value |   max_features |   min_samples_split |   n_estimators | \n",
      "    1 | 00m01s | \u001b[35m   0.87831\u001b[0m | \u001b[32m        0.4046\u001b[0m | \u001b[32m             6.4774\u001b[0m | \u001b[32m      206.7998\u001b[0m | \n",
      "    2 | 00m04s |    0.84673 |         0.9587 |              6.8717 |       248.0978 | \n",
      "    3 | 00m03s |    0.85329 |         0.7554 |             24.6520 |       154.8059 | \n",
      "    4 | 00m00s |    0.83668 |         0.9621 |             24.2804 |        50.4180 | \n",
      "    5 | 00m01s |    0.85694 |         0.6144 |              2.2303 |       110.0289 | \n",
      "\u001b[31mBayesian Optimization\u001b[0m\n",
      "\u001b[94m-------------------------------------------------------------------------------------\u001b[0m\n",
      " Step |   Time |      Value |   max_features |   min_samples_split |   n_estimators | \n",
      "    6 | 00m02s |    0.81740 |         0.4537 |              2.0000 |        10.0000 | \n",
      "    7 | 00m05s |    0.84561 |         0.9903 |              2.0494 |       180.8497 | \n",
      "    8 | 00m07s |    0.86077 |         0.1000 |             25.0000 |       231.4382 | \n",
      "    9 | 00m04s |    0.85856 |         0.1099 |              2.0647 |        61.4195 | \n",
      "   10 | 00m03s |    0.85355 |         0.1081 |             24.8058 |        99.6622 | \n",
      "   11 | 00m09s |    0.84721 |         0.9790 |             24.9374 |       203.1688 | \n",
      "   12 | 00m03s | \u001b[35m   0.88087\u001b[0m | \u001b[32m        0.1238\u001b[0m | \u001b[32m             2.2893\u001b[0m | \u001b[32m      226.1074\u001b[0m | \n",
      "   13 | 00m08s |    0.87337 |         0.1000 |              2.0000 |       215.3773 | \n",
      "   14 | 00m04s |    0.87081 |         0.1049 |              9.4933 |       222.7027 | \n",
      "   15 | 00m12s |    0.84916 |         0.9521 |              2.1901 |       219.7819 | \n",
      "-----------------------------------------------------\n",
      "Final Results\n",
      "SVC: 0.907501\n",
      "RFC: 0.880871\n"
     ]
    }
   ],
   "source": [
    "if __name__ == \"__main__\":\n",
    "    # 定义传入优化函数的内置变量，不会被定义为优化超参数\n",
    "    gp_params = {\"alpha\": 1e-5}\n",
    "\n",
    "    svcBO = BayesianOptimization(svccv,\n",
    "        {'C': (0.001, 100), 'gamma': (0.0001, 0.1)})\n",
    "    # 贝叶斯初始化必须包含的点\n",
    "    svcBO.explore({'C': [0.001, 0.01, 0.1], 'gamma': [0.001, 0.01, 0.1]})\n",
    "    # 贝叶斯优化的各个参数的上下线\n",
    "    rfcBO = BayesianOptimization(\n",
    "        rfccv,\n",
    "        {'n_estimators': (10, 250),\n",
    "        'min_samples_split': (2, 25),\n",
    "        'max_features': (0.1, 0.999)}\n",
    "    )\n",
    "\n",
    "    svcBO.maximize(init_points=5,n_iter=10, **gp_params)\n",
    "    print('-' * 53)\n",
    "    rfcBO.maximize(init_points=5,n_iter=10, **gp_params)\n",
    "\n",
    "    print('-' * 53)\n",
    "    print('Final Results')\n",
    "    print('SVC: %f' % svcBO.res['max']['max_val'])\n",
    "    print('RFC: %f' % rfcBO.res['max']['max_val'])"
   ]
  },
  {
   "cell_type": "code",
   "execution_count": null,
   "metadata": {},
   "outputs": [],
   "source": []
  }
 ],
 "metadata": {
  "kernelspec": {
   "display_name": "Python 3",
   "language": "python",
   "name": "python3"
  },
  "language_info": {
   "codemirror_mode": {
    "name": "ipython",
    "version": 3
   },
   "file_extension": ".py",
   "mimetype": "text/x-python",
   "name": "python",
   "nbconvert_exporter": "python",
   "pygments_lexer": "ipython3",
   "version": "3.6.6"
  }
 },
 "nbformat": 4,
 "nbformat_minor": 2
}
