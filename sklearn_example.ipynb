{
 "cells": [
  {
   "cell_type": "code",
   "execution_count": 1,
   "metadata": {},
   "outputs": [
    {
     "name": "stderr",
     "output_type": "stream",
     "text": [
      "D:\\Program Files (x86)\\anaconda\\lib\\site-packages\\sklearn\\cross_validation.py:41: DeprecationWarning: This module was deprecated in version 0.18 in favor of the model_selection module into which all the refactored classes and functions are moved. Also note that the interface of the new CV iterators are different from that of this module. This module will be removed in 0.20.\n",
      "  \"This module will be removed in 0.20.\", DeprecationWarning)\n"
     ]
    }
   ],
   "source": [
    "from __future__ import print_function,division\n",
    "\n",
    "from sklearn.datasets import make_classification\n",
    "from sklearn.cross_validation import cross_val_score\n",
    "from sklearn.ensemble import RandomForestClassifier as RFC\n",
    "from sklearn.svm import SVC\n",
    "\n",
    "from bayes_opt import BayesianOptimization\n",
    "import warnings\n",
    "warnings.filterwarnings('ignore')"
   ]
  },
  {
   "cell_type": "code",
   "execution_count": 2,
   "metadata": {},
   "outputs": [],
   "source": [
    "data, target = make_classification(n_samples=1000,n_features=45,n_informative=12,n_redundant=7,random_state=2018)"
   ]
  },
  {
   "cell_type": "markdown",
   "metadata": {},
   "source": [
    "定义优化的问题，输入为需要优化的超参数，输出为需要优化的目标值"
   ]
  },
  {
   "cell_type": "code",
   "execution_count": 3,
   "metadata": {},
   "outputs": [],
   "source": [
    "def svccv(C, gamma):\n",
    "    val = cross_val_score(estimator=SVC(C=C,gamma=gamma,probability=True,random_state=2018),X=data,y=target,scoring='f1',cv=2).mean()\n",
    "    return val"
   ]
  },
  {
   "cell_type": "code",
   "execution_count": 4,
   "metadata": {},
   "outputs": [],
   "source": [
    "def rfccv(n_estimators, min_samples_split, max_features):\n",
    "    val = cross_val_score(\n",
    "        RFC(n_estimators=int(n_estimators),\n",
    "            min_samples_split=int(min_samples_split),\n",
    "            max_features=min(max_features, 0.999),\n",
    "            random_state=2\n",
    "        ),\n",
    "        data, target, 'f1', cv=2\n",
    "    ).mean()\n",
    "    return val"
   ]
  },
  {
   "cell_type": "code",
   "execution_count": 5,
   "metadata": {},
   "outputs": [
    {
     "name": "stdout",
     "output_type": "stream",
     "text": [
      "\u001b[31mInitialization\u001b[0m\n",
      "\u001b[94m-----------------------------------------------------\u001b[0m\n",
      " Step |   Time |      Value |         C |     gamma | \n",
      "    1 | 00m00s | \u001b[35m   0.00000\u001b[0m | \u001b[32m   0.0010\u001b[0m | \u001b[32m   0.0010\u001b[0m | \n",
      "    2 | 00m00s |    0.00000 |    0.0100 |    0.0100 | \n",
      "    3 | 00m00s |    0.00000 |    0.1000 |    0.1000 | \n",
      "    4 | 00m00s | \u001b[35m   0.71034\u001b[0m | \u001b[32m  89.9878\u001b[0m | \u001b[32m   0.0636\u001b[0m | \n",
      "    5 | 00m00s | \u001b[35m   0.89753\u001b[0m | \u001b[32m  25.4890\u001b[0m | \u001b[32m   0.0331\u001b[0m | \n",
      "    6 | 00m00s |    0.41218 |   99.3426 |    0.0848 | \n",
      "    7 | 00m00s |    0.35456 |    8.7792 |    0.0892 | \n",
      "    8 | 00m00s |    0.75723 |   72.3955 |    0.0591 | \n",
      "\u001b[31mBayesian Optimization\u001b[0m\n",
      "\u001b[94m-----------------------------------------------------\u001b[0m\n",
      " Step |   Time |      Value |         C |     gamma | \n",
      "    9 | 00m03s |    0.83034 |   45.4679 |    0.0001 | \n",
      "   10 | 00m03s |    0.82695 |   34.4431 |    0.0001 | \n",
      "   11 | 00m03s |    0.82676 |   57.9144 |    0.0001 | \n",
      "   12 | 00m03s |    0.82433 |   27.9552 |    0.0001 | \n",
      "   13 | 00m02s |    0.82187 |   19.2769 |    0.0001 | \n",
      "   14 | 00m02s |    0.83513 |   81.1852 |    0.0001 | \n",
      "   15 | 00m03s |    0.21233 |   64.1021 |    0.1000 | \n",
      "   16 | 00m02s |    0.21233 |   52.0847 |    0.1000 | \n",
      "   17 | 00m03s |    0.21233 |   40.3285 |    0.1000 | \n",
      "   18 | 00m03s |    0.21233 |   76.7809 |    0.1000 | \n",
      "-----------------------------------------------------\n",
      "\u001b[31mInitialization\u001b[0m\n",
      "\u001b[94m-------------------------------------------------------------------------------------\u001b[0m\n",
      " Step |   Time |      Value |   max_features |   min_samples_split |   n_estimators | \n",
      "    1 | 00m03s | \u001b[35m   0.86078\u001b[0m | \u001b[32m        0.6267\u001b[0m | \u001b[32m             8.0726\u001b[0m | \u001b[32m      292.1589\u001b[0m | \n",
      "    2 | 00m05s | \u001b[35m   0.87791\u001b[0m | \u001b[32m        0.3176\u001b[0m | \u001b[32m            11.1499\u001b[0m | \u001b[32m      530.7791\u001b[0m | \n",
      "    3 | 00m04s |    0.87751 |         0.4314 |              7.6818 |       353.4942 | \n",
      "    4 | 00m03s |    0.86362 |         0.6027 |             11.3142 |       315.9294 | \n",
      "    5 | 00m04s |    0.87519 |         0.3825 |              3.3911 |       370.5240 | \n",
      "\u001b[31mBayesian Optimization\u001b[0m\n",
      "\u001b[94m-------------------------------------------------------------------------------------\u001b[0m\n",
      " Step |   Time |      Value |   max_features |   min_samples_split |   n_estimators | \n",
      "    6 | 00m10s |    0.86777 |         0.3727 |             24.9955 |       444.0113 | \n",
      "    7 | 00m14s | \u001b[35m   0.87943\u001b[0m | \u001b[32m        0.3737\u001b[0m | \u001b[32m             2.0273\u001b[0m | \u001b[32m      548.7815\u001b[0m | \n",
      "    8 | 00m14s |    0.86513 |         0.6640 |              2.0037 |       462.7387 | \n",
      "    9 | 00m13s |    0.87093 |         0.3300 |             24.8307 |       549.7726 | \n",
      "   10 | 00m16s |    0.87016 |         0.5973 |              2.0030 |       549.9640 | \n",
      "   11 | 00m16s |    0.87909 |         0.3894 |              2.7792 |       549.9944 | \n",
      "   12 | 00m16s |    0.86418 |         0.6072 |              2.3226 |       549.8267 | \n",
      "   13 | 00m20s |    0.86151 |         0.5758 |             24.7055 |       549.6380 | \n",
      "   14 | 00m13s |    0.87816 |         0.3196 |              2.9906 |       549.9782 | \n",
      "   15 | 00m14s |    0.87598 |         0.3255 |              2.0023 |       548.0560 | \n",
      "-----------------------------------------------------\n",
      "Final Results\n",
      "SVC: 0.897527\n",
      "RFC: 0.879426\n"
     ]
    }
   ],
   "source": [
    "if __name__ == \"__main__\":\n",
    "    # 定义传入优化函数的内置变量，不会被定义为优化超参数\n",
    "    gp_params = {\"alpha\": 1e-5}\n",
    "\n",
    "    svcBO = BayesianOptimization(svccv,\n",
    "        {'C': (0.001, 1), 'gamma': (0.0001, 0.1)})\n",
    "    # 贝叶斯初始化必须包含的点\n",
    "    svcBO.explore({'C': [0.001, 0.01, 0.1], 'gamma': [0.001, 0.01, 0.1]})\n",
    "    # 贝叶斯优化的各个参数的上下线\n",
    "    rfcBO = BayesianOptimization(\n",
    "        rfccv,\n",
    "        {'n_estimators': (200, 550),\n",
    "        'min_samples_split': (2, 25),\n",
    "        'max_features': (0.3, 0.7)}\n",
    "    )\n",
    "\n",
    "    svcBO.maximize(init_points=5,n_iter=10, **gp_params)\n",
    "    print('-' * 53)\n",
    "    rfcBO.maximize(init_points=5,n_iter=10, **gp_params)\n",
    "\n",
    "    print('-' * 53)\n",
    "    print('Final Results')\n",
    "    print('SVC: %f' % svcBO.res['max']['max_val'])\n",
    "    print('RFC: %f' % rfcBO.res['max']['max_val'])"
   ]
  },
  {
   "cell_type": "code",
   "execution_count": null,
   "metadata": {},
   "outputs": [],
   "source": []
  }
 ],
 "metadata": {
  "kernelspec": {
   "display_name": "Python 3",
   "language": "python",
   "name": "python3"
  },
  "language_info": {
   "codemirror_mode": {
    "name": "ipython",
    "version": 3
   },
   "file_extension": ".py",
   "mimetype": "text/x-python",
   "name": "python",
   "nbconvert_exporter": "python",
   "pygments_lexer": "ipython3",
   "version": "3.6.6"
  }
 },
 "nbformat": 4,
 "nbformat_minor": 2
}
